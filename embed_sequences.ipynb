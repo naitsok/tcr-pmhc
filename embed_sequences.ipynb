{
 "cells": [
  {
   "cell_type": "code",
   "execution_count": 1,
   "metadata": {},
   "outputs": [],
   "source": [
    "import glob\n",
    "\n",
    "import numpy as np\n",
    "import pandas as pd\n",
    "\n",
    "\n",
    "#####\n",
    "# Getting amino acid sequences\n",
    "#####\n",
    "\n",
    "def oneHot(residue):\n",
    "    \"\"\"\n",
    "    Converts string sequence to one-hot encoding\n",
    "    Example usage:\n",
    "    seq = \"GSHSMRY\"\n",
    "    oneHot(seq)\n",
    "    \"\"\"\n",
    "    \n",
    "    mapping = dict(zip(\"ACDEFGHIKLMNPQRSTVWY\", range(20)))\n",
    "    if residue in \"ACDEFGHIKLMNPQRSTVWY\":\n",
    "        return np.eye(20)[mapping[residue]]\n",
    "    else:\n",
    "        return np.zeros(20)\n",
    "    \n",
    "def reverseOneHot(encoding):\n",
    "    \"\"\"\n",
    "    Converts one-hot encoded array back to string sequence\n",
    "    \"\"\"\n",
    "    mapping = dict(zip(range(20),\"ACDEFGHIKLMNPQRSTVWY\"))\n",
    "    seq=''\n",
    "    for i in range(len(encoding)):\n",
    "        if np.max(encoding[i])>0:\n",
    "            seq+=mapping[np.argmax(encoding[i])]\n",
    "    return seq\n",
    "\n",
    "def extract_sequences(dataset_X):\n",
    "    \"\"\"\n",
    "    Return DataFrame with MHC, peptide and TCR a/b sequences from\n",
    "    one-hot encoded complex sequences in dataset X\n",
    "    \"\"\"\n",
    "    complex_sequences = [reverseOneHot(arr[:, 0:20]) for arr in dataset_X]\n",
    "    mhc_sequences = [seq[0:180] for seq in complex_sequences]\n",
    "    pep_sequences = [seq[180:192] for seq in complex_sequences]\n",
    "    tcrab_sequences = [seq[192:] for seq in complex_sequences]\n",
    "    df_sequences = pd.DataFrame({\"MHC\":mhc_sequences, \"peptide\":pep_sequences,\n",
    "                                 \"tcra\":tcrab_sequences})\n",
    "    return df_sequences\n",
    "\n",
    "\n",
    "#####\n",
    "# Load data and convert to amino acid sequences\n",
    "#####\n",
    "\n",
    "def load_data():\n",
    "    data_list = []\n",
    "    target_list = []\n",
    "\n",
    "    for fp in glob.glob(\"./data/train/*input.npz\"):\n",
    "        data = np.load(fp)[\"arr_0\"]\n",
    "        targets = np.load(fp.replace(\"input\", \"labels\"))[\"arr_0\"]\n",
    "        \n",
    "        data_list.append(data)\n",
    "        target_list.append(targets)\n",
    "\n",
    "    X_data = np.concatenate(data_list)\n",
    "    Y_data = np.concatenate(target_list)\n",
    "    print(\"X data shape \", X_data.shape)\n",
    "    print(\"Y data shape \", Y_data.shape)\n",
    "\n",
    "    X_sequences = extract_sequences(X_data)\n",
    "    return X_sequences\n"
   ]
  },
  {
   "cell_type": "code",
   "execution_count": 2,
   "metadata": {},
   "outputs": [
    {
     "name": "stdout",
     "output_type": "stream",
     "text": [
      "X data shape  (5706, 420, 54)\n",
      "Y data shape  (5706,)\n"
     ]
    }
   ],
   "source": [
    "seqs = load_data()"
   ]
  },
  {
   "cell_type": "code",
   "execution_count": 3,
   "metadata": {},
   "outputs": [
    {
     "data": {
      "text/plain": [
       "0    GSHSMRYFFTSVSRPGRGEPRFIAVGYVDDTQFVRFDSDAASQRME...\n",
       "1    GSHSMRYFFTSVSRPGRGEPRFIAVGYVDDTQFVRFDSDAASQRME...\n",
       "2    GSHSMRYFFTSVSRPGRGEPRFIAVGYVDDTQFVRFDSDAASQRME...\n",
       "3    GSHSMRYFFTSVSRPGRGEPRFIAVGYVDDTQFVRFDSDAASQRME...\n",
       "4    GSHSMRYFFTSVSRPGRGEPRFIAVGYVDDTQFVRFDSDAASQRME...\n",
       "Name: MHC, dtype: object"
      ]
     },
     "execution_count": 3,
     "metadata": {},
     "output_type": "execute_result"
    }
   ],
   "source": [
    "seqs[\"MHC\"].head()"
   ]
  },
  {
   "cell_type": "code",
   "execution_count": 4,
   "metadata": {},
   "outputs": [
    {
     "ename": "ModuleNotFoundError",
     "evalue": "No module named 'allennlp'",
     "output_type": "error",
     "traceback": [
      "\u001b[1;31m---------------------------------------------------------------------------\u001b[0m",
      "\u001b[1;31mModuleNotFoundError\u001b[0m                       Traceback (most recent call last)",
      "\u001b[1;32m<ipython-input-4-48ad90ce8c89>\u001b[0m in \u001b[0;36m<module>\u001b[1;34m\u001b[0m\n\u001b[1;32m----> 1\u001b[1;33m \u001b[1;32mfrom\u001b[0m \u001b[0mallennlp\u001b[0m\u001b[1;33m.\u001b[0m\u001b[0mcommands\u001b[0m\u001b[1;33m.\u001b[0m\u001b[0melmo\u001b[0m \u001b[1;32mimport\u001b[0m \u001b[0mElmoEmbedder\u001b[0m\u001b[1;33m\u001b[0m\u001b[1;33m\u001b[0m\u001b[0m\n\u001b[0m\u001b[0;32m      2\u001b[0m \u001b[1;32mfrom\u001b[0m \u001b[0mpathlib\u001b[0m \u001b[1;32mimport\u001b[0m \u001b[0mPath\u001b[0m\u001b[1;33m\u001b[0m\u001b[1;33m\u001b[0m\u001b[0m\n\u001b[0;32m      3\u001b[0m \u001b[1;33m\u001b[0m\u001b[0m\n\u001b[0;32m      4\u001b[0m \u001b[0mmodel_dir\u001b[0m \u001b[1;33m=\u001b[0m \u001b[0mPath\u001b[0m\u001b[1;33m(\u001b[0m\u001b[1;34m'./data/seqvec'\u001b[0m\u001b[1;33m)\u001b[0m\u001b[1;33m\u001b[0m\u001b[1;33m\u001b[0m\u001b[0m\n\u001b[0;32m      5\u001b[0m \u001b[0mweights\u001b[0m \u001b[1;33m=\u001b[0m \u001b[0mmodel_dir\u001b[0m \u001b[1;33m/\u001b[0m \u001b[1;34m'weights.hdf5'\u001b[0m\u001b[1;33m\u001b[0m\u001b[1;33m\u001b[0m\u001b[0m\n",
      "\u001b[1;31mModuleNotFoundError\u001b[0m: No module named 'allennlp'"
     ]
    }
   ],
   "source": [
    "from allennlp.commands.elmo import ElmoEmbedder\n",
    "from pathlib import Path\n",
    "\n",
    "model_dir = Path('./data/seqvec')\n",
    "weights = model_dir / 'weights.hdf5'\n",
    "options = model_dir / 'options.json'\n",
    "embedder = ElmoEmbedder(options, weights, cuda_device=0)"
   ]
  },
  {
   "cell_type": "code",
   "execution_count": 20,
   "metadata": {},
   "outputs": [],
   "source": [
    "arr = np.load(\"./data/train/tcra/embedding_batch_0.npy\")\n"
   ]
  },
  {
   "cell_type": "code",
   "execution_count": 27,
   "metadata": {},
   "outputs": [
    {
     "data": {
      "text/plain": [
       "array([0., 0., 0., ..., 0., 0., 0.])"
      ]
     },
     "execution_count": 27,
     "metadata": {},
     "output_type": "execute_result"
    }
   ],
   "source": [
    "arr.shape\n",
    "arr[0][0][207]"
   ]
  },
  {
   "cell_type": "code",
   "execution_count": 15,
   "metadata": {},
   "outputs": [],
   "source": [
    "np.save(\"./data/arr64\", arr)"
   ]
  }
 ],
 "metadata": {
  "kernelspec": {
   "display_name": "Python 3",
   "language": "python",
   "name": "python3"
  },
  "language_info": {
   "codemirror_mode": {
    "name": "ipython",
    "version": 3
   },
   "file_extension": ".py",
   "mimetype": "text/x-python",
   "name": "python",
   "nbconvert_exporter": "python",
   "pygments_lexer": "ipython3",
   "version": "3.8.3"
  }
 },
 "nbformat": 4,
 "nbformat_minor": 4
}
